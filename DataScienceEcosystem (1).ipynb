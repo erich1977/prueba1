{
  "metadata": {
    "kernelspec": {
      "name": "python",
      "display_name": "Python (Pyodide)",
      "language": "python"
    },
    "language_info": {
      "codemirror_mode": {
        "name": "python",
        "version": 3
      },
      "file_extension": ".py",
      "mimetype": "text/x-python",
      "name": "python",
      "nbconvert_exporter": "python",
      "pygments_lexer": "ipython3",
      "version": "3.8"
    }
  },
  "nbformat_minor": 4,
  "nbformat": 4,
  "cells": [
    {
      "cell_type": "markdown",
      "source": "# Data Science Tools and Ecosystem",
      "metadata": {}
    },
    {
      "cell_type": "markdown",
      "source": "En este cuaderno se resumen las principales herramientas y el ecosistema de la Ciencia de Datos.",
      "metadata": {}
    },
    {
      "cell_type": "markdown",
      "source": "**Objectives:**\n* List popular languages for Data Science.\n* Create a table of Data Science tools.\n* Write simple Python code for arithmetic operations and conversions.\n* Format text using Markdown.",
      "metadata": {}
    },
    {
      "cell_type": "markdown",
      "source": "los lenguajes más populares que utilizan los cientistas de datos son:\n\n1. Python\n2. R\n3. SQL",
      "metadata": {}
    },
    {
      "cell_type": "markdown",
      "source": "Algunas de las bibliotecas más utilizadas son:\n1. Pandas: Para manipulación y análisis de datos.\n2. NumPy: Para operaciones numéricas y matrices.\n3. Matplotlib: Para visualización de datos.",
      "metadata": {}
    },
    {
      "cell_type": "markdown",
      "source": "| Data Science Tools |\n|---|---|\n| Jupyter Notebook |\n| RStudio |\n| Visual Studio Code |",
      "metadata": {}
    },
    {
      "cell_type": "markdown",
      "source": "### Ejemplos de expresiones aritméticas en Python\n\nAlgunos ejemplos de cómo evaluar expresiones aritméticas en Python:\n\n* **Suma:** `2 + 3`\n* **Resta:** `5 - 2`\n* **Multiplicación:** `4 * 2`\n* **División:** `10 / 2`\n* **Exponente:** `2 ** 3` (2 elevado a la 3)\n* **Módulo:** `11 % 3` (resto de la división)\n* **División entera:** `11 // 3` (cociente de la división entera)",
      "metadata": {}
    },
    {
      "cell_type": "code",
      "source": "# Esta es una expresión aritmetica simple para multiplicar enteros.\n(3 * 4) + 5",
      "metadata": {
        "trusted": true
      },
      "outputs": [
        {
          "execution_count": 7,
          "output_type": "execute_result",
          "data": {
            "text/plain": "17"
          },
          "metadata": {}
        }
      ],
      "execution_count": 7
    },
    {
      "cell_type": "code",
      "source": "# Expresión que convierte 200 minutos en horas diviendo por 60\n200 / 60",
      "metadata": {
        "trusted": true
      },
      "outputs": [
        {
          "execution_count": 1,
          "output_type": "execute_result",
          "data": {
            "text/plain": "3.3333333333333335"
          },
          "metadata": {}
        }
      ],
      "execution_count": 1
    },
    {
      "cell_type": "markdown",
      "source": "## Author\nErich Erazo Quinzacara",
      "metadata": {}
    },
    {
      "cell_type": "code",
      "source": "",
      "metadata": {
        "trusted": true
      },
      "outputs": [],
      "execution_count": null
    }
  ]
}